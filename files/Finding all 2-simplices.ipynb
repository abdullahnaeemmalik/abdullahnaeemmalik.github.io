{
 "cells": [
  {
   "cell_type": "code",
   "execution_count": null,
   "id": "e1520285",
   "metadata": {},
   "outputs": [],
   "source": [
    "import dgl\n",
    "import torch\n",
    "from tqdm import tqdm\n",
    "from ogb.nodeproppred import DglNodePropPredDataset\n",
    "import json"
   ]
  },
  {
   "cell_type": "markdown",
   "id": "3dc0929d",
   "metadata": {},
   "source": [
    "This builds the 1-skeleton of a standard simplex"
   ]
  },
  {
   "cell_type": "code",
   "execution_count": null,
   "id": "516d6fa6",
   "metadata": {},
   "outputs": [],
   "source": [
    "class SimplexCreator():\n",
    "    \"\"\"Create standard simplex\"\"\"\n",
    "    def __init__(self, dimension):\n",
    "        self.input_dimension = dimension\n",
    "        self.src=list()\n",
    "        self.dst=list()\n",
    "        for i in range(self.input_dimension+1):\n",
    "            for j in range(self.input_dimension+1):\n",
    "                if (i < j):\n",
    "                    self.src = self.src + [i]\n",
    "                    self.dst = self.dst + [j]"
   ]
  },
  {
   "cell_type": "markdown",
   "id": "126efd4b",
   "metadata": {},
   "source": [
    "If $A$ is the adjacency matrix, we construct $\\tilde{A}$, which replaces all entries in the diagonal with a zero, effectively killing off all loops. For the matrix $A^2$, we use Boolean algebra to save memory by reducing the size of the entries of the matrix. A nonzero entry $a_{ij}$ of $\\tilde{A} \\circ \\tilde{A}^2$ corresponds to 2 vertices $i$ and $j$ of a 2-simplex. For all $x$ in the out-neighborhood of $i$ and the in-neighborhood of $j$, we get a 2-simplex $[i,x,j]$."
   ]
  },
  {
   "cell_type": "code",
   "execution_count": null,
   "id": "1a745612",
   "metadata": {},
   "outputs": [],
   "source": [
    "class simplices_2():\n",
    "    src=list()\n",
    "    dst=list()\n",
    "    empty_graph = dgl.heterograph({('node', 'to', 'node'): (src, dst)})\n",
    "\n",
    "    assert isinstance(empty_graph, dgl.DGLHeteroGraph), \\\n",
    "        'Keyword argument \\\"graph\\\" of AdjGraph\\'s init methodmust be a dgl.DGLHeteroGraph.'\n",
    "\n",
    "    def __init__(\n",
    "        self, file_path, graph=empty_graph):\n",
    "        self.seed_graph = graph\n",
    "        self.file_path = file_path\n",
    "        seed_edge_pairs = []\n",
    "        src, dst = self.seed_graph.edges()\n",
    "        for i, u in enumerate(src):\n",
    "            v = dst[i]\n",
    "            seed_edge_pairs.append((int(u),int(v)))\n",
    "        self.seed_edge_pairs = seed_edge_pairs\n",
    "        \n",
    "        self.simplices = {0: [int(x) for x in self.seed_graph.nodes()], \n",
    "                          1: self.seed_edge_pairs, 2: list()}\n",
    "        \n",
    "        print(\"Finished adding 0-simplices and 1-simplices in main dictionary\")\n",
    "        \n",
    "        print(\"Computing matrices..\")\n",
    "        loopless = dgl.transforms.RemoveSelfLoop()\n",
    "        graph = loopless(self.seed_graph)\n",
    "        adj_squared = torch.sparse.mm(graph.adj_external(),graph.adj_external())\n",
    "        diagonal_mask = (adj_squared._indices()[0] == adj_squared._indices()[1])\n",
    "        off_diagonal_mask = ~diagonal_mask\n",
    "        #set all zero values to one where the edge is not a loop\n",
    "        adj_squared._values()[off_diagonal_mask] = 1.0\n",
    "        #create a new sparse matrix with diagonal elements killed off\n",
    "        new_indices = adj_squared._indices()[:, off_diagonal_mask]\n",
    "        #only use original nonzero values (which were later changed to 1)\n",
    "        new_values = adj_squared._values()[off_diagonal_mask]\n",
    "        new_size = adj_squared.size()\n",
    "        squared_no_diag_binary = torch.sparse_coo_tensor(indices=new_indices,\n",
    "                                                         values=new_values, size=new_size)\n",
    "        #the hadamard product is sparse, but keeps track of entries that are zero\n",
    "        edges_1 = squared_no_diag_binary._indices().transpose(0, 1)\n",
    "        edges_2 = graph.adj_external()._indices().transpose(0, 1)\n",
    "        edges = find_common_tensors(edges_1,edges_2)\n",
    "        adj_size = len(self.seed_graph.nodes())\n",
    "        ones = torch.ones(edges.shape[0], dtype=torch.int64)\n",
    "        self.hadamard_product = torch.sparse_coo_tensor(indices=edges.t(), values=ones,\n",
    "                                                   size=torch.Size([adj_size, adj_size]))\n",
    "        \n",
    "    def out_nodes_as_int(self, vertex):\n",
    "        \"\"\"convert successors to a list with integer node values\"\"\"\n",
    "        neighbors = [int(v) for v in list(self.seed_graph.successors(vertex))]\n",
    "        if int(vertex) in neighbors:\n",
    "            neighbors.remove(int(vertex))\n",
    "        return neighbors\n",
    "\n",
    "    def in_nodes_as_int(self, vertex):\n",
    "        \"\"\"convert predecessors to a list with integer node values\"\"\"\n",
    "        neighbors = [int(v) for v in list(self.seed_graph.predecessors(vertex))]\n",
    "        if int(vertex) in neighbors:\n",
    "            neighbors.remove(int(vertex))\n",
    "        return neighbors       \n",
    "    \n",
    "    def main_search(self):\n",
    "        print(\"Adding 2-vertices to the dictionary\")\n",
    "        row_indices, col_indices = self.hadamard_product._indices()\n",
    "        for i,j in tqdm(zip(row_indices,col_indices), position=0, leave=False):\n",
    "            intersection = set.intersection(set(self.out_nodes_as_int(i)),\n",
    "                                            set(self.in_nodes_as_int(j)))\n",
    "            for k in intersection:\n",
    "                self.simplices[2] = self.simplices[2] + [(int(i),int(k),int(j))]\n",
    "            \n",
    "        print(\"Finished adding simplices of dimension 2\")    \n",
    "        \n",
    "        with open(self.file_path, \"w\") as file:\n",
    "            json.dump(self.simplices, file)\n",
    "        print(\"Dictionary of simplices saved as a JSON file\")\n",
    "        \n",
    "def find_common_tensors(tensor_A,tensor_B):\n",
    "    equal_pairs = torch.all(tensor_A[:, None, :] == tensor_B[None, :, :], dim=2)\n",
    "    common_pair_indices = torch.nonzero(equal_pairs, as_tuple=False)\n",
    "    return tensor_A[common_pair_indices[:, 0]]"
   ]
  },
  {
   "cell_type": "code",
   "execution_count": null,
   "id": "cd3d4623",
   "metadata": {},
   "outputs": [],
   "source": [
    "\"\"\"Code testing with real world data\"\"\"\n",
    "dataset = DglNodePropPredDataset(name = \"ogbn-arxiv\", root = 'dataset/')\n",
    "arxiv_graph = dataset.graph[0]\n",
    "filepath = 'arxiv_graph_2_simplices'\n",
    "arxiv_preprocessing = simplices_2(filepath,graph=arxiv_graph)\n",
    "arxiv_preprocessing.main_search()"
   ]
  },
  {
   "cell_type": "code",
   "execution_count": null,
   "id": "3de2fe38",
   "metadata": {},
   "outputs": [],
   "source": [
    "\"\"\"Code testing with standard simplices\"\"\"\n",
    "K_10 = dgl.heterograph({('paper', 'cites', 'paper'): (SimplexCreator(dimension=20).src, SimplexCreator(dimension=20).dst)})\n",
    "filepath = 'K_10'\n",
    "K_10_preprocessing = simplices_2(filepath,graph=K_10)\n",
    "K_10_preprocessing.main_search()\n",
    "print(\"Simplices dictionary=\",K_10_preprocessing.simplices)"
   ]
  },
  {
   "cell_type": "code",
   "execution_count": null,
   "id": "d9af56a1",
   "metadata": {},
   "outputs": [],
   "source": [
    "\"\"\"Code testing\"\"\"\n",
    "bell_graph_src  = [0,0,0,1,1,2] + [1] + [4, 4, 4, 5, 5, 6] \n",
    "bell_graph_dst = [1,2,3,2,3,3] + [4] + [5, 6, 7, 6, 7, 7]\n",
    "bell_graph = dgl.heterograph({('paper', 'cites', 'paper'): (bell_graph_src, bell_graph_dst)})\n",
    "filepath = 'bell_graph'\n",
    "bell_graph_preprocessing = simplices_2(filepath,graph=bell_graph)\n",
    "bell_graph_preprocessing.main_search()\n",
    "print(\"Simplices dictionary=\", bell_graph_preprocessing.simplices)"
   ]
  },
  {
   "cell_type": "code",
   "execution_count": null,
   "id": "7d4a1ca1",
   "metadata": {},
   "outputs": [],
   "source": [
    "import random\n",
    "def generate_random_graph(num_nodes):\n",
    "    src_edges =[]\n",
    "    dst_edges = []\n",
    "    edges = []\n",
    "    for i in range(2*num_nodes):\n",
    "        src_edges.append(random.randint(0,num_nodes))\n",
    "        dst_edges.append(random.randint(0,num_nodes))\n",
    "        edges.append((src_edges[i],dst_edges[i]))\n",
    "    graph = dgl.heterograph({('paper', 'cites', 'paper'): (src_edges, dst_edges)})\n",
    "    return graph, edges"
   ]
  },
  {
   "cell_type": "code",
   "execution_count": null,
   "id": "120396ad",
   "metadata": {},
   "outputs": [],
   "source": [
    "import matplotlib.pyplot as plt\n",
    "import networkx as nx\n",
    "\n",
    "dgl_G, edges = generate_random_graph(10)\n",
    "print(edges)\n",
    "nx_G = nx.DiGraph()\n",
    "nx_G.add_edges_from(edges)\n",
    "options = {\n",
    "    'node_color': 'black',\n",
    "    'node_size': 20,\n",
    "    'width': 1,\n",
    "}\n",
    "#pos = nx.spring_layout(nx_G, seed=42)\n",
    "pos = nx.planar_layout(nx_G)\n",
    "nx.draw_networkx(nx_G, pos, with_labels=True, node_color='lightblue', node_size=200, font_size=10, font_color='black', arrows=True)\n",
    "plt.show()"
   ]
  },
  {
   "cell_type": "code",
   "execution_count": null,
   "id": "94dbe128",
   "metadata": {},
   "outputs": [],
   "source": [
    "filepath='randomgraph'\n",
    "random_graph_preprocessing = simplices_2(filepath,graph=dgl_G)\n",
    "random_graph_preprocessing.main_search()\n",
    "print(\"Simplices dictionary=\",random_graph_preprocessing.simplices)"
   ]
  }
 ],
 "metadata": {
  "kernelspec": {
   "display_name": "Python 3 (ipykernel)",
   "language": "python",
   "name": "python3"
  },
  "language_info": {
   "codemirror_mode": {
    "name": "ipython",
    "version": 3
   },
   "file_extension": ".py",
   "mimetype": "text/x-python",
   "name": "python",
   "nbconvert_exporter": "python",
   "pygments_lexer": "ipython3",
   "version": "3.11.5"
  }
 },
 "nbformat": 4,
 "nbformat_minor": 5
}
